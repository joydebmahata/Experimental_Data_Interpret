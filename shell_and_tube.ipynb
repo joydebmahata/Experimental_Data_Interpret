{
  "nbformat": 4,
  "nbformat_minor": 0,
  "metadata": {
    "colab": {
      "provenance": [],
      "authorship_tag": "ABX9TyNeb6cwRqe6abyZ/RzNf8WX",
      "include_colab_link": true
    },
    "kernelspec": {
      "name": "python3",
      "display_name": "Python 3"
    },
    "language_info": {
      "name": "python"
    }
  },
  "cells": [
    {
      "cell_type": "markdown",
      "metadata": {
        "id": "view-in-github",
        "colab_type": "text"
      },
      "source": [
        "<a href=\"https://colab.research.google.com/github/joydebmahata/Experimental_Data_Interpret/blob/main/shell_and_tube.ipynb\" target=\"_parent\"><img src=\"https://colab.research.google.com/assets/colab-badge.svg\" alt=\"Open In Colab\"/></a>"
      ]
    },
    {
      "cell_type": "code",
      "execution_count": null,
      "metadata": {
        "id": "Uzg0wKDPwLdg"
      },
      "outputs": [],
      "source": [
        "fh=215\n",
        "t1=37.3\n",
        "t2=32.3\n",
        "t3=22.5\n",
        "t4=25.3\n",
        "fc=220"
      ]
    },
    {
      "cell_type": "code",
      "source": [
        "th=(t1+t2)/2\n",
        "tc=(t3+t4)/2\n",
        "cph=4186\n",
        "cpc=4179\n",
        "roh=989.7\n",
        "roc=996\n",
        "muh=0.0005354\n",
        "muc=0.0008217\n",
        "muw=1\n",
        "kh=0.63962\n",
        "kc=0.61746\n",
        "di=0.013\n",
        "do=0.016\n",
        "l=0.5\n",
        "pt=1.25*do\n",
        "ds=0.2\n",
        "print(th,tc)"
      ],
      "metadata": {
        "id": "ZBH10b-DwcI0",
        "colab": {
          "base_uri": "https://localhost:8080/"
        },
        "outputId": "091f43f0-fa8f-4332-92e0-561f659e9f1b"
      },
      "execution_count": null,
      "outputs": [
        {
          "output_type": "stream",
          "name": "stdout",
          "text": [
            "34.8 23.9\n"
          ]
        }
      ]
    },
    {
      "cell_type": "code",
      "source": [
        "mh=(fh*roh)/(3600*1000)\n",
        "mc=(fc*roc)/(3600*1000)\n",
        "qh=mh*cph*(t1-t2)\n",
        "qc=mc*cpc*(t4-t3)\n",
        "print(\"MH=\",mh,\"\\n MC=\",mc)\n",
        "print(\"qh=\",qh,\"\\nqc=\",qc)\n",
        "delt1=t1-t4\n",
        "delt2=t2-t3\n",
        "tem=delt1/delt2"
      ],
      "metadata": {
        "colab": {
          "base_uri": "https://localhost:8080/"
        },
        "id": "N2zMJzXYwbvn",
        "outputId": "2253a801-d9ad-40b9-e82b-62fb460d4e0a"
      },
      "execution_count": null,
      "outputs": [
        {
          "output_type": "stream",
          "name": "stdout",
          "text": [
            "MH= 0.05910708333333333 \n",
            " MC= 0.060866666666666666\n",
            "qh= 1237.1112541666666 \n",
            "qc= 712.2130400000001\n"
          ]
        }
      ]
    },
    {
      "cell_type": "code",
      "source": [
        "import math\n",
        "tem=tem**2\n",
        "tem=tem**0.5\n",
        "k = math.log(tem)\n",
        "deltLMTD=(delt2-delt1)/k\n",
        "print(\"deltLMTD=\",deltLMTD)"
      ],
      "metadata": {
        "colab": {
          "base_uri": "https://localhost:8080/"
        },
        "id": "4VFB0qsPwbsJ",
        "outputId": "d6029ab1-de86-44e2-d5f5-0774b59afc49"
      },
      "execution_count": null,
      "outputs": [
        {
          "output_type": "stream",
          "name": "stdout",
          "text": [
            "deltLMTD= -10.862895908556753\n"
          ]
        }
      ]
    },
    {
      "cell_type": "code",
      "source": [
        "r=(t1-t2)/(t4-t3)\n",
        "s=(t4-t3)/(t1-t3)\n",
        "print(r,\" and \",s)"
      ],
      "metadata": {
        "colab": {
          "base_uri": "https://localhost:8080/"
        },
        "id": "PY1pB6G05r2b",
        "outputId": "099dc00e-9fb7-4ad5-b76c-e78e2001d146"
      },
      "execution_count": null,
      "outputs": [
        {
          "output_type": "stream",
          "name": "stdout",
          "text": [
            "1.7857142857142854  and  0.18918918918918928\n"
          ]
        }
      ]
    },
    {
      "cell_type": "code",
      "source": [
        "ft=2.203"
      ],
      "metadata": {
        "id": "K7I8hzyDQMt9"
      },
      "execution_count": null,
      "outputs": []
    },
    {
      "cell_type": "code",
      "source": [
        "delt=ft*deltLMTD\n",
        "delt=(delt*delt)**0.5\n",
        "print(\"delt=\",delt)\n",
        "ai=0.326725\n",
        "ao=0.402123\n",
        "ui=qh/(ai*delt)\n",
        "uo=qc/(ao*delt)\n",
        "uexp=(uo+ui)/2\n",
        "print(\"ui=\",ui)\n",
        "print(\"uo\",uo)\n",
        "print(uexp)"
      ],
      "metadata": {
        "colab": {
          "base_uri": "https://localhost:8080/"
        },
        "id": "RKSwPyhI7bkC",
        "outputId": "eaa590ef-d79e-49ca-a103-dea88ee8904b"
      },
      "execution_count": null,
      "outputs": [
        {
          "output_type": "stream",
          "name": "stdout",
          "text": [
            "delt= 23.930959686550526\n",
            "ui= 158.22178361213915\n",
            "uo 74.01008310720933\n",
            "116.11593335967424\n"
          ]
        }
      ]
    },
    {
      "cell_type": "code",
      "source": [
        "at=0.002137166\n",
        "ac=0.02\n",
        "gt=fh*roh/at\n",
        "gs=fc*roc/ac\n",
        "ret=gt*di/muh\n",
        "prt=muh*cph/kh\n",
        "dc=4*(0.86*pt*0.5*pt-(3.14*(do)**2 /2))/(3.14*(do)**2 /4)\n",
        "dc=(dc*dc)**0.5\n",
        "nut=0.86 * ((ret*prt*dc/2)**0.33 )\n",
        "hi=nut*kh/di\n",
        "hio=hi*di/do\n",
        "print(\"gt=\",gt,ret,prt,nut)\n",
        "print(\"gs=\",gs)\n",
        "print(\"hi=\",hi)"
      ],
      "metadata": {
        "id": "rTbdbeaH5rpI",
        "colab": {
          "base_uri": "https://localhost:8080/"
        },
        "outputId": "8368c9e7-a914-4501-a164-27764ffdd695"
      },
      "execution_count": null,
      "outputs": [
        {
          "output_type": "stream",
          "name": "stdout",
          "text": [
            "gt= 99564329.58413152 2417512672.00917 3.5039310840811733 2134.7524775086154\n",
            "gs= 10956000.0\n",
            "hi= 105033.10612800466\n"
          ]
        }
      ]
    },
    {
      "cell_type": "code",
      "source": [
        "res=gs*dc/muc\n",
        "prs=cpc*muc/kc\n",
        "nus=0.36*((res)**0.55)*((prs)**0.33)\n",
        "ho=nus*kc/dc\n",
        "utheo=1/(1/ho + 1/hio)\n",
        "effi=uexp/utheo*100\n",
        "print(\"ho=\",ho,res,prs,nus)\n",
        "print(\"hio=\",hio)\n",
        "print(\"utheo=\",utheo)\n",
        "print(\"efff=\",effi)"
      ],
      "metadata": {
        "id": "nEICmYX25rSY",
        "colab": {
          "base_uri": "https://localhost:8080/"
        },
        "outputId": "a50d9008-b415-4d21-c74b-0b2e13451cb7"
      },
      "execution_count": null,
      "outputs": [
        {
          "output_type": "stream",
          "name": "stdout",
          "text": [
            "ho= 73164.22627339944 61019108280.254776 5.561306481391507 542271.869256829\n",
            "hio= 85339.39872900378\n",
            "utheo= 39392.10272667278\n",
            "efff= 0.29476957390510405\n"
          ]
        }
      ]
    },
    {
      "cell_type": "code",
      "source": [
        "print(25**0.5)"
      ],
      "metadata": {
        "colab": {
          "base_uri": "https://localhost:8080/"
        },
        "id": "2ci83xwx7MTJ",
        "outputId": "fa1e0694-e7d3-48c2-bd9b-143902c8dbf8"
      },
      "execution_count": null,
      "outputs": [
        {
          "output_type": "stream",
          "name": "stdout",
          "text": [
            "5.0\n"
          ]
        }
      ]
    }
  ]
}